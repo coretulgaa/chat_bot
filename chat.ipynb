{
 "cells": [
  {
   "cell_type": "code",
   "execution_count": null,
   "metadata": {},
   "outputs": [
    {
     "ename": "",
     "evalue": "",
     "output_type": "error",
     "traceback": [
      "\u001b[1;31mRunning cells with '3.9 (Python 3.9.19)' requires the ipykernel package.\n",
      "\u001b[1;31mRun the following command to install 'ipykernel' into the Python environment. \n",
      "\u001b[1;31mCommand: '/opt/homebrew/bin/python3.9 -m pip install ipykernel -U --force-reinstall'"
     ]
    }
   ],
   "source": [
    "%%capture --no-stderr\n",
    "\n",
    "%pip install --upgrade --quiet langchain-community langchainhub langgraph clickhouse-sqlalchemy sqlalchemy"
   ]
  },
  {
   "cell_type": "code",
   "execution_count": null,
   "metadata": {},
   "outputs": [],
   "source": [
    "from sqlalchemy import create_engine, Column, MetaData, literal\n",
    "\n",
    "uri = ''\n",
    "\n",
    "engine = create_engine(uri)"
   ]
  },
  {
   "cell_type": "code",
   "execution_count": 4,
   "metadata": {},
   "outputs": [
    {
     "name": "stdout",
     "output_type": "stream",
     "text": [
      "clickhouse\n",
      "['transactions']\n"
     ]
    },
    {
     "data": {
      "text/plain": [
       "\"[(None, '2901855', '65', datetime.date(2024, 1, 10), datetime.datetime(2024, 1, 9, 16, 0), '1126790405', '563146601', '5000000202848827', 'Decrease', -20000, 70090, 90090, 'PHONE', '2401893', 'BRANCHUSERNAME', 'Mobile Legends, 7048159468995897115', None, 'Gaming', '25', 'D54D148D912657A5DFF2C0FB124774889C535459C619375A60F4D3847D0A168A0A8CD97E00F78CD36ED52F60FD66553782AF22A3A2741171B36EE2DE3849B25A', '4ED4DDC8274C0EC76E3EB08790CF402488CA7B9D8A1768B423F791B95093DAF76434D1FB1B982E6D0E23F4806F917B6B42E4CD3398905ABEE646DA90F7B521D1', 'D54D148D912657A5DFF2C0FB124774889C535459C619375A60F4D3847D0A168A0A8CD97E00F78CD36ED52F60FD66553782AF22A3A2741171B36EE2DE3849B25A', None, None, None, '9D343F99EB8230FC183F186CAC257E405778ADF113D54135D401BF4A04FD70B065A7DE54030C6477080D90EDE2FCBB59CBD469AC10BD284A028958FC29F43686', '4301F973B340471EAAF60C4053CE6C07737646598721207E9992039C6BC19D486F8630505BDDC578175AA94E0925E100E9116492B9EC0AC3D379CADC4CD2159D', '4301F973B340471EAAF60C4053CE6C07737646598721207E9992039C6BC19D486F8630505BDDC578175AA94E0925E100E9116492B9EC0AC3D379CADC4CD2159D', '4301F973B340471EAAF60C4053CE6C07737646598721207E9992039C6BC19D486F8630505BDDC578175AA94E0925E100E9116492B9EC0AC3D379CADC4CD2159D', 'DD8C231C2CA1D8814455393C5EBF661257323B4B13833CC27B2E36A1C36D4A94B6AF6B52D4700555D6339409527F62597F4E253C1AC640A2AF337A8C54524942', 'Unitel', 'SELL', 'Sell', None), ('55', '3107097', '49', datetime.date(2024, 1, 10), datetime.datetime(2024, 1, 9, 16, 0, 1), '1126790426', '563146610', '3400000202848828', 'Increase', 2700, 4700, 2000, 'PHONE', '2037527', 'ACCOUNTNO', 'Банкны картнаас орлого:227e4c0fd07874d29b5c4f66ca490d1b19hselo', None, None, '3', '36D319FBF6BFD880188BE31E4F25B0DA2FA49F8B55F7CC9AB24C343535D530B4E44E56B54D9922EA30DF157782DBE2C4CD545284742CAF11CE483CB2534AA3D8', 'DAB8EDA7224531B78F148C96FE08E80377E3FC46A52FD4C5CF6BC05092A52886DB0343BDA132657BCCC941448E9A48CBD203F99A7CFAEC328581B95D9FA312D2', '36D319FBF6BFD880188BE31E4F25B0DA2FA49F8B55F7CC9AB24C343535D530B4E44E56B54D9922EA30DF157782DBE2C4CD545284742CAF11CE483CB2534AA3D8', '651B3C527D19E2EC558DD4FB71C66B042A8F4BF4F534FCA2274EF50E39AA4F84A1BCBF020AB21FD2FB18A537CA4568FAC2FF232C28568AB547059A8823DF4FC2', None, None, '90E12475B6160945FBA404314B0ECC6D32E6DB3693E792E7C34CC88104B9E5FE56FBE4611BEEE1ACF5F8B5E9338EA64C5664C751691267480C1820E2857C4BFE', '90E12475B6160945FBA404314B0ECC6D32E6DB3693E792E7C34CC88104B9E5FE56FBE4611BEEE1ACF5F8B5E9338EA64C5664C751691267480C1820E2857C4BFE', '362985ABC53CB526EC88A6AD1E2E4C765EF7CEA95CD2341DB0ACFE0335656980F366EDF4E8C3AE7672D50ABF3E966B2E244D902090C5EF763476C69EB7238BB9', None, None, 'Mobicom', 'BANKCASHIN', 'Cashin', 'MONPAY'), ('55', '88570', '50', datetime.date(2024, 1, 10), datetime.datetime(2024, 1, 9, 16, 0, 4), '1126790435', '563146616', '3500000202848923', 'Decrease', -1600000, 229138, 1829138, 'ACCOUNTNO', '2039662', 'ACCOUNTNO', 'o ( 1605251818 )', None, None, '4', '252E61D1437186BAB3749C32D582F59B490DB85566A92A9427268DDE6DF3DCE2092871604D6CB7318B35FFC6075A5BB25C3B0ABD7C926F6D2394BB7FA0BAEE53', '027E85C2ADB810D280B64BDAFD68332C4CEA7F1CE214C4D24BDA20272F967E33946240CB618640A207CF8EC3CCADC9B5F6E93DEB5687D74E3C9F08936041B5AE', '027E85C2ADB810D280B64BDAFD68332C4CEA7F1CE214C4D24BDA20272F967E33946240CB618640A207CF8EC3CCADC9B5F6E93DEB5687D74E3C9F08936041B5AE', '9408D1A238729706F3CFF5FC9C22561A1981D0F7238348A66129D491230302BF89FE9338C1B0EB5EDB778E10D1BC82A47E0E742BF5E91863132EAE51124682DB', None, None, '594BC01D97AC994333C2FB373B8D2FA62BACC20E25543E09A314EBA054522D3B38901384EC57574F8B2F02155B8741123EEA18C9390A968E8202E36E876F8D7D', '594BC01D97AC994333C2FB373B8D2FA62BACC20E25543E09A314EBA054522D3B38901384EC57574F8B2F02155B8741123EEA18C9390A968E8202E36E876F8D7D', '035ECA3517A97D4AEB60FA265A3D729A3092FFCD5D486BA08C00C94AD3FD6868D5526E7B4E71AB1C35FE0BC0F25412D1E8EF6EC2A39CA391BBA7351EEA09504F', None, None, 'Mobicom', 'BANKCASHOUT', 'Cashout', 'MONPAY'), (None, '3158147', '65', datetime.date(2024, 1, 10), datetime.datetime(2024, 1, 9, 16, 0, 7), '1126790453', '563146625', '5000000202848829', 'Decrease', -10000, 5000, 15000, 'PHONE', '2401893', 'BRANCHUSERNAME', 'Mobile Legends, 7048159615925918775', None, 'Gaming', '25', '7856545DEFC49291353A8B30975D38924C2EBAB09658BC09D8848156530B5EC1225AE6A44B68D2B62906F6E3B5FD6E16DD230026FBEE8B337F6D5050E7AFA2D7', 'B4EAC3A652BA8ECBE4BE4DD18D5260C29A32C1199E92DEAA0ECBFC3D8D37CD21CEECDFECB209EFF287C66A0E9EEFF0A2B72D6ACCA8A2ED0A682194879CF90CA4', '7856545DEFC49291353A8B30975D38924C2EBAB09658BC09D8848156530B5EC1225AE6A44B68D2B62906F6E3B5FD6E16DD230026FBEE8B337F6D5050E7AFA2D7', '52103580196100A2010D9C968140804A7D5D079D81EE5084955292A0E50CD9D61276D5B87BDDC23B8AD6A203A3A27A4B8591421825E01F7E8B2EBF3999C6A4F5', None, None, '9D343F99EB8230FC183F186CAC257E405778ADF113D54135D401BF4A04FD70B065A7DE54030C6477080D90EDE2FCBB59CBD469AC10BD284A028958FC29F43686', '4301F973B340471EAAF60C4053CE6C07737646598721207E9992039C6BC19D486F8630505BDDC578175AA94E0925E100E9116492B9EC0AC3D379CADC4CD2159D', '4301F973B340471EAAF60C4053CE6C07737646598721207E9992039C6BC19D486F8630505BDDC578175AA94E0925E100E9116492B9EC0AC3D379CADC4CD2159D', '4301F973B340471EAAF60C4053CE6C07737646598721207E9992039C6BC19D486F8630505BDDC578175AA94E0925E100E9116492B9EC0AC3D379CADC4CD2159D', 'DD8C231C2CA1D8814455393C5EBF661257323B4B13833CC27B2E36A1C36D4A94B6AF6B52D4700555D6339409527F62597F4E253C1AC640A2AF337A8C54524942', 'Unitel', 'SELL', 'Sell', None), ('55', '3343972', '67', datetime.date(2024, 1, 10), datetime.datetime(2024, 1, 9, 16, 0, 9), '1126790480', '563146637', '4000000202848832', 'Increase', 10000, 40050, 30050, 'PHONE', '3436141', 'PHONE', 'bymbaa vldsn mongo', None, None, '22', '2BCBD9268777C2C13C501EB0791AE379D142F58F5771AB7F9C47BED57B72FD5543E769531DA02FB7FE743A00DD0D2918F39242B04F26E8B1FF8B41CBFC136A56', '05978DFB568AC09BD9113AB1E4A847AED60E88D9414CFC48FE9FAA8C48D0105C54257A407B7613B4A794DF928E48555DB06514A1E4E463A86CD28726CFD9A6D5', '2BCBD9268777C2C13C501EB0791AE379D142F58F5771AB7F9C47BED57B72FD5543E769531DA02FB7FE743A00DD0D2918F39242B04F26E8B1FF8B41CBFC136A56', '906777992E7AB97AC46E2C47455BCEE59181259CF5165B78D56522E1AE67D1AD08B43844E1948BCEEAA685F467CE473253C300941B356AF1E01B48BBA9E7788B', None, '14CDCD20D54D92E1F487AB592249C97893E68874973B618FF02910E4F0915957D96D9B866FF19753A0035B2849C992A72DA51B455DA3CB3E1E1972F6E0A65BE0', '5538DF52C0B81553EB0B1804C2C4FDD27DDE1C44BB067A973B1F9104A1883498DD039EB57C253DA6EC255A42D3C71D41A6D64EB81B4474D692DBD757F1BD8BF4', '14CDCD20D54D92E1F487AB592249C97893E68874973B618FF02910E4F0915957D96D9B866FF19753A0035B2849C992A72DA51B455DA3CB3E1E1972F6E0A65BE0', '1ABE0290CE607699413CA3AF359F5582ABBBF9188B2CC27B8885A6DA74BB5947C4D440DEE6AE79C7C298A9EF04DC31364B87E642DF1E6FA528E23242163F69AE', None, None, 'Unitel', 'SURPRISE', 'Surprise', 'MONPAY'), ('55', '3436141', '57', datetime.date(2024, 1, 10), datetime.datetime(2024, 1, 9, 16, 0, 9), '1126790483', '563146640', '8000000202848833', 'Decrease', -10, 280, 290, 'PHONE', '2032471', 'ACCOUNTNO', 'Шилжүүлгийн шимтгэл', None, None, '7', '14CDCD20D54D92E1F487AB592249C97893E68874973B618FF02910E4F0915957D96D9B866FF19753A0035B2849C992A72DA51B455DA3CB3E1E1972F6E0A65BE0', '5538DF52C0B81553EB0B1804C2C4FDD27DDE1C44BB067A973B1F9104A1883498DD039EB57C253DA6EC255A42D3C71D41A6D64EB81B4474D692DBD757F1BD8BF4', '14CDCD20D54D92E1F487AB592249C97893E68874973B618FF02910E4F0915957D96D9B866FF19753A0035B2849C992A72DA51B455DA3CB3E1E1972F6E0A65BE0', '1ABE0290CE607699413CA3AF359F5582ABBBF9188B2CC27B8885A6DA74BB5947C4D440DEE6AE79C7C298A9EF04DC31364B87E642DF1E6FA528E23242163F69AE', None, None, '1E5D1E277D79303F1391115B3B28B62A2B6DB1556035109FF6570224DAA2330C495C39885F1ACC596F0236FE2D5D23E90B3C2D2709850295D00B0C544CEBBA12', '1E5D1E277D79303F1391115B3B28B62A2B6DB1556035109FF6570224DAA2330C495C39885F1ACC596F0236FE2D5D23E90B3C2D2709850295D00B0C544CEBBA12', '506AEFF835DF20951AC42882454C71B31AA9A1A610DA42C90D18283FB4AEDDBC4AF363DF9DEA30C3D845CA35DF20A4EAC7B52587913BCC1E427D805C74AE96D4', None, None, 'Unitel', 'FEE', 'Fee', 'MONPAY'), ('55', '3739548', '67', datetime.date(2024, 1, 10), datetime.datetime(2024, 1, 9, 16, 0, 11), '1126790489', '563146643', '4000000202848834', 'Decrease', -25000, 22500, 47500, 'PHONE', '2135739', 'PHONE', 'ulziisaihan Enhk-Amgalan', None, None, '22', 'A99B793096685FDFF37B32DEC8C23D795091417AD3C5D294D7101F272954790E72C779002BA2E9FC355A8207F9299C594178BCACAB1ABE234F5F7EE54E818C7B', 'DB023CB44C284502251869BFD5455C14A678F23CF1B5E1151C864A3C4D0D995F8B18CF2FD6AD528EE72B81A97C6DD8B44EEDA4A25A40D5837D8810373DE3AC63', 'A99B793096685FDFF37B32DEC8C23D795091417AD3C5D294D7101F272954790E72C779002BA2E9FC355A8207F9299C594178BCACAB1ABE234F5F7EE54E818C7B', '4CF6590602A0E3546538A1E1D4D8EB96D6E7465B96698E058E372FC592C5AC5A067CE3AFAD8FCD5DF5D6128F8706CE0EA193C43AC772E0F98B3B7D62AB67D732', None, 'FE4B73CD2BDB42BBE3BA92586A6B540662B0C23253D9EA7A1FE734E4E3B655607DB3D58075379D2463FEB7F270E627846648A4863693152A4EF796928C9D435C', 'C9F449DC59D14F06EF46F07C7A6E1DC7FD1CB717C77061D4A31DEA20729E85E3D2B65B3CF64CBEE015ACCE07BA42BC3010D53FF8E48DD674E0B5E0F1F5B58B3E', 'FE4B73CD2BDB42BBE3BA92586A6B540662B0C23253D9EA7A1FE734E4E3B655607DB3D58075379D2463FEB7F270E627846648A4863693152A4EF796928C9D435C', '9565003703D0C77989335385E2A1DDE70391D87D366632FF7D873C0C57E0A29E738A008A08BD495ADFCC0B91FDA7AD97E3965FE743833A6927FE6D79D50FE0C4', None, None, 'Mobicom', 'SURPRISE', 'Surprise', 'MONPAY'), ('55', '2135739', '67', datetime.date(2024, 1, 10), datetime.datetime(2024, 1, 9, 16, 0, 11), '1126790492', '563146643', '4000000202848834', 'Increase', 25000, 25118, 118, 'PHONE', '3739548', 'PHONE', 'ulziisaihan Enhk-Amgalan', None, None, '22', 'FE4B73CD2BDB42BBE3BA92586A6B540662B0C23253D9EA7A1FE734E4E3B655607DB3D58075379D2463FEB7F270E627846648A4863693152A4EF796928C9D435C', 'C9F449DC59D14F06EF46F07C7A6E1DC7FD1CB717C77061D4A31DEA20729E85E3D2B65B3CF64CBEE015ACCE07BA42BC3010D53FF8E48DD674E0B5E0F1F5B58B3E', 'FE4B73CD2BDB42BBE3BA92586A6B540662B0C23253D9EA7A1FE734E4E3B655607DB3D58075379D2463FEB7F270E627846648A4863693152A4EF796928C9D435C', '9565003703D0C77989335385E2A1DDE70391D87D366632FF7D873C0C57E0A29E738A008A08BD495ADFCC0B91FDA7AD97E3965FE743833A6927FE6D79D50FE0C4', None, 'A99B793096685FDFF37B32DEC8C23D795091417AD3C5D294D7101F272954790E72C779002BA2E9FC355A8207F9299C594178BCACAB1ABE234F5F7EE54E818C7B', 'DB023CB44C284502251869BFD5455C14A678F23CF1B5E1151C864A3C4D0D995F8B18CF2FD6AD528EE72B81A97C6DD8B44EEDA4A25A40D5837D8810373DE3AC63', 'A99B793096685FDFF37B32DEC8C23D795091417AD3C5D294D7101F272954790E72C779002BA2E9FC355A8207F9299C594178BCACAB1ABE234F5F7EE54E818C7B', '4CF6590602A0E3546538A1E1D4D8EB96D6E7465B96698E058E372FC592C5AC5A067CE3AFAD8FCD5DF5D6128F8706CE0EA193C43AC772E0F98B3B7D62AB67D732', None, None, 'Mobicom', 'SURPRISE', 'Surprise', 'MONPAY'), ('55', '3739548', '57', datetime.date(2024, 1, 10), datetime.datetime(2024, 1, 9, 16, 0, 11), '1126790495', '563146646', '8000000202848835', 'Decrease', -10, 22490, 22500, 'PHONE', '2032471', 'ACCOUNTNO', 'Шилжүүлгийн шимтгэл', None, None, '7', 'A99B793096685FDFF37B32DEC8C23D795091417AD3C5D294D7101F272954790E72C779002BA2E9FC355A8207F9299C594178BCACAB1ABE234F5F7EE54E818C7B', 'DB023CB44C284502251869BFD5455C14A678F23CF1B5E1151C864A3C4D0D995F8B18CF2FD6AD528EE72B81A97C6DD8B44EEDA4A25A40D5837D8810373DE3AC63', 'A99B793096685FDFF37B32DEC8C23D795091417AD3C5D294D7101F272954790E72C779002BA2E9FC355A8207F9299C594178BCACAB1ABE234F5F7EE54E818C7B', '4CF6590602A0E3546538A1E1D4D8EB96D6E7465B96698E058E372FC592C5AC5A067CE3AFAD8FCD5DF5D6128F8706CE0EA193C43AC772E0F98B3B7D62AB67D732', None, None, '1E5D1E277D79303F1391115B3B28B62A2B6DB1556035109FF6570224DAA2330C495C39885F1ACC596F0236FE2D5D23E90B3C2D2709850295D00B0C544CEBBA12', '1E5D1E277D79303F1391115B3B28B62A2B6DB1556035109FF6570224DAA2330C495C39885F1ACC596F0236FE2D5D23E90B3C2D2709850295D00B0C544CEBBA12', '506AEFF835DF20951AC42882454C71B31AA9A1A610DA42C90D18283FB4AEDDBC4AF363DF9DEA30C3D845CA35DF20A4EAC7B52587913BCC1E427D805C74AE96D4', None, None, 'Mobicom', 'FEE', 'Fee', 'MONPAY'), ('55', '213500', '50', datetime.date(2024, 1, 10), datetime.datetime(2024, 1, 9, 16, 0, 12), '1126790501', '563146649', '3500000202848927', 'Decrease', -350000, 9266, 359266, 'ACCOUNTNO', '2039662', 'ACCOUNTNO', 'Banii ( 8081818180 )', None, None, '4', 'E9C0838B6EE50038E5241FD5C769F2C4B098B2B596CDE35B506F98C6D8E5762606F104BB4C576049AA0C93C1D6462EBB5C8A7CE0AA480D17EC26878B94764D45', '9D73A509115EEDA47EE3C2AF940EEA729AE6DFAA5BB22CE336E7D44C84EDBC51161BB337104E62E280BE3D196ED7A423E776AF4D2BCF281DFD46CDA19351D148', '9D73A509115EEDA47EE3C2AF940EEA729AE6DFAA5BB22CE336E7D44C84EDBC51161BB337104E62E280BE3D196ED7A423E776AF4D2BCF281DFD46CDA19351D148', 'D692A8BD75683B2BF2C843B0B0ED80CC14CBAE3FEE8B5B274C84EF1F3C221F70C344A391D3434777E8520628DAF0CC871CBB59BDF90891F5582766B0A428040D', None, None, '594BC01D97AC994333C2FB373B8D2FA62BACC20E25543E09A314EBA054522D3B38901384EC57574F8B2F02155B8741123EEA18C9390A968E8202E36E876F8D7D', '594BC01D97AC994333C2FB373B8D2FA62BACC20E25543E09A314EBA054522D3B38901384EC57574F8B2F02155B8741123EEA18C9390A968E8202E36E876F8D7D', '035ECA3517A97D4AEB60FA265A3D729A3092FFCD5D486BA08C00C94AD3FD6868D5526E7B4E71AB1C35FE0BC0F25412D1E8EF6EC2A39CA391BBA7351EEA09504F', None, None, 'Mobicom', 'BANKCASHOUT', 'Cashout', 'MONPAY')]\""
      ]
     },
     "execution_count": 4,
     "metadata": {},
     "output_type": "execute_result"
    }
   ],
   "source": [
    "from langchain_community.utilities import SQLDatabase\n",
    "\n",
    "db = SQLDatabase(engine=engine)\n",
    "print(db.dialect)\n",
    "print(db.get_usable_table_names())\n",
    "db.run(\"SELECT * FROM datalake.transactions LIMIT 10;\")"
   ]
  },
  {
   "cell_type": "code",
   "execution_count": 5,
   "metadata": {},
   "outputs": [],
   "source": [
    "from typing_extensions import TypedDict\n",
    "\n",
    "\n",
    "class State(TypedDict):\n",
    "    question: str\n",
    "    query: str\n",
    "    result: str\n",
    "    answer: str"
   ]
  },
  {
   "cell_type": "code",
   "execution_count": 6,
   "metadata": {},
   "outputs": [
    {
     "name": "stdout",
     "output_type": "stream",
     "text": [
      "Requirement already satisfied: langchain-openai in /Library/Frameworks/Python.framework/Versions/3.13/lib/python3.13/site-packages (0.3.5)\n",
      "Requirement already satisfied: langchain-core<1.0.0,>=0.3.34 in /Library/Frameworks/Python.framework/Versions/3.13/lib/python3.13/site-packages (from langchain-openai) (0.3.34)\n",
      "Requirement already satisfied: openai<2.0.0,>=1.58.1 in /Library/Frameworks/Python.framework/Versions/3.13/lib/python3.13/site-packages (from langchain-openai) (1.61.1)\n",
      "Requirement already satisfied: tiktoken<1,>=0.7 in /Library/Frameworks/Python.framework/Versions/3.13/lib/python3.13/site-packages (from langchain-openai) (0.8.0)\n",
      "Requirement already satisfied: langsmith<0.4,>=0.1.125 in /Library/Frameworks/Python.framework/Versions/3.13/lib/python3.13/site-packages (from langchain-core<1.0.0,>=0.3.34->langchain-openai) (0.3.6)\n",
      "Requirement already satisfied: tenacity!=8.4.0,<10.0.0,>=8.1.0 in /Library/Frameworks/Python.framework/Versions/3.13/lib/python3.13/site-packages (from langchain-core<1.0.0,>=0.3.34->langchain-openai) (9.0.0)\n",
      "Requirement already satisfied: jsonpatch<2.0,>=1.33 in /Library/Frameworks/Python.framework/Versions/3.13/lib/python3.13/site-packages (from langchain-core<1.0.0,>=0.3.34->langchain-openai) (1.33)\n",
      "Requirement already satisfied: PyYAML>=5.3 in /Library/Frameworks/Python.framework/Versions/3.13/lib/python3.13/site-packages (from langchain-core<1.0.0,>=0.3.34->langchain-openai) (6.0.2)\n",
      "Requirement already satisfied: packaging<25,>=23.2 in /Users/tulgaabatsaikhan/Library/Python/3.13/lib/python/site-packages (from langchain-core<1.0.0,>=0.3.34->langchain-openai) (24.2)\n",
      "Requirement already satisfied: typing-extensions>=4.7 in /Library/Frameworks/Python.framework/Versions/3.13/lib/python3.13/site-packages (from langchain-core<1.0.0,>=0.3.34->langchain-openai) (4.12.2)\n",
      "Requirement already satisfied: pydantic<3.0.0,>=2.7.4 in /Library/Frameworks/Python.framework/Versions/3.13/lib/python3.13/site-packages (from langchain-core<1.0.0,>=0.3.34->langchain-openai) (2.10.6)\n",
      "Requirement already satisfied: anyio<5,>=3.5.0 in /Library/Frameworks/Python.framework/Versions/3.13/lib/python3.13/site-packages (from openai<2.0.0,>=1.58.1->langchain-openai) (4.8.0)\n",
      "Requirement already satisfied: distro<2,>=1.7.0 in /Library/Frameworks/Python.framework/Versions/3.13/lib/python3.13/site-packages (from openai<2.0.0,>=1.58.1->langchain-openai) (1.9.0)\n",
      "Requirement already satisfied: httpx<1,>=0.23.0 in /Library/Frameworks/Python.framework/Versions/3.13/lib/python3.13/site-packages (from openai<2.0.0,>=1.58.1->langchain-openai) (0.28.1)\n",
      "Requirement already satisfied: jiter<1,>=0.4.0 in /Library/Frameworks/Python.framework/Versions/3.13/lib/python3.13/site-packages (from openai<2.0.0,>=1.58.1->langchain-openai) (0.8.2)\n",
      "Requirement already satisfied: sniffio in /Library/Frameworks/Python.framework/Versions/3.13/lib/python3.13/site-packages (from openai<2.0.0,>=1.58.1->langchain-openai) (1.3.1)\n",
      "Requirement already satisfied: tqdm>4 in /Library/Frameworks/Python.framework/Versions/3.13/lib/python3.13/site-packages (from openai<2.0.0,>=1.58.1->langchain-openai) (4.67.1)\n",
      "Requirement already satisfied: regex>=2022.1.18 in /Library/Frameworks/Python.framework/Versions/3.13/lib/python3.13/site-packages (from tiktoken<1,>=0.7->langchain-openai) (2024.11.6)\n",
      "Requirement already satisfied: requests>=2.26.0 in /Library/Frameworks/Python.framework/Versions/3.13/lib/python3.13/site-packages (from tiktoken<1,>=0.7->langchain-openai) (2.32.3)\n",
      "Requirement already satisfied: idna>=2.8 in /Library/Frameworks/Python.framework/Versions/3.13/lib/python3.13/site-packages (from anyio<5,>=3.5.0->openai<2.0.0,>=1.58.1->langchain-openai) (3.10)\n",
      "Requirement already satisfied: certifi in /Library/Frameworks/Python.framework/Versions/3.13/lib/python3.13/site-packages (from httpx<1,>=0.23.0->openai<2.0.0,>=1.58.1->langchain-openai) (2025.1.31)\n",
      "Requirement already satisfied: httpcore==1.* in /Library/Frameworks/Python.framework/Versions/3.13/lib/python3.13/site-packages (from httpx<1,>=0.23.0->openai<2.0.0,>=1.58.1->langchain-openai) (1.0.7)\n",
      "Requirement already satisfied: h11<0.15,>=0.13 in /Library/Frameworks/Python.framework/Versions/3.13/lib/python3.13/site-packages (from httpcore==1.*->httpx<1,>=0.23.0->openai<2.0.0,>=1.58.1->langchain-openai) (0.14.0)\n",
      "Requirement already satisfied: jsonpointer>=1.9 in /Library/Frameworks/Python.framework/Versions/3.13/lib/python3.13/site-packages (from jsonpatch<2.0,>=1.33->langchain-core<1.0.0,>=0.3.34->langchain-openai) (3.0.0)\n",
      "Requirement already satisfied: orjson<4.0.0,>=3.9.14 in /Library/Frameworks/Python.framework/Versions/3.13/lib/python3.13/site-packages (from langsmith<0.4,>=0.1.125->langchain-core<1.0.0,>=0.3.34->langchain-openai) (3.10.15)\n",
      "Requirement already satisfied: requests-toolbelt<2.0.0,>=1.0.0 in /Library/Frameworks/Python.framework/Versions/3.13/lib/python3.13/site-packages (from langsmith<0.4,>=0.1.125->langchain-core<1.0.0,>=0.3.34->langchain-openai) (1.0.0)\n",
      "Requirement already satisfied: zstandard<0.24.0,>=0.23.0 in /Library/Frameworks/Python.framework/Versions/3.13/lib/python3.13/site-packages (from langsmith<0.4,>=0.1.125->langchain-core<1.0.0,>=0.3.34->langchain-openai) (0.23.0)\n",
      "Requirement already satisfied: annotated-types>=0.6.0 in /Library/Frameworks/Python.framework/Versions/3.13/lib/python3.13/site-packages (from pydantic<3.0.0,>=2.7.4->langchain-core<1.0.0,>=0.3.34->langchain-openai) (0.7.0)\n",
      "Requirement already satisfied: pydantic-core==2.27.2 in /Library/Frameworks/Python.framework/Versions/3.13/lib/python3.13/site-packages (from pydantic<3.0.0,>=2.7.4->langchain-core<1.0.0,>=0.3.34->langchain-openai) (2.27.2)\n",
      "Requirement already satisfied: charset-normalizer<4,>=2 in /Library/Frameworks/Python.framework/Versions/3.13/lib/python3.13/site-packages (from requests>=2.26.0->tiktoken<1,>=0.7->langchain-openai) (3.4.1)\n",
      "Requirement already satisfied: urllib3<3,>=1.21.1 in /Library/Frameworks/Python.framework/Versions/3.13/lib/python3.13/site-packages (from requests>=2.26.0->tiktoken<1,>=0.7->langchain-openai) (2.3.0)\n",
      "\n",
      "\u001b[1m[\u001b[0m\u001b[34;49mnotice\u001b[0m\u001b[1;39;49m]\u001b[0m\u001b[39;49m A new release of pip is available: \u001b[0m\u001b[31;49m24.3.1\u001b[0m\u001b[39;49m -> \u001b[0m\u001b[32;49m25.0.1\u001b[0m\n",
      "\u001b[1m[\u001b[0m\u001b[34;49mnotice\u001b[0m\u001b[1;39;49m]\u001b[0m\u001b[39;49m To update, run: \u001b[0m\u001b[32;49mpip3 install --upgrade pip\u001b[0m\n",
      "Note: you may need to restart the kernel to use updated packages.\n"
     ]
    }
   ],
   "source": [
    "pip install -U langchain-openai"
   ]
  },
  {
   "cell_type": "code",
   "execution_count": null,
   "metadata": {},
   "outputs": [],
   "source": [
    "import getpass\n",
    "import os\n",
    "from langchain_openai import ChatOpenAI\n",
    "\n",
    "if not os.environ.get(\"OPENAI_API_KEY\"):\n",
    "  os.environ[\"OPENAI_API_KEY\"] = ''\n",
    "\n",
    "\n",
    "\n",
    "llm = ChatOpenAI(model=\"gpt-4o\")"
   ]
  },
  {
   "cell_type": "code",
   "execution_count": 8,
   "metadata": {},
   "outputs": [
    {
     "name": "stderr",
     "output_type": "stream",
     "text": [
      "/Library/Frameworks/Python.framework/Versions/3.13/lib/python3.13/site-packages/langsmith/client.py:253: LangSmithMissingAPIKeyWarning: API key must be provided when using hosted LangSmith API\n",
      "  warnings.warn(\n"
     ]
    },
    {
     "name": "stdout",
     "output_type": "stream",
     "text": [
      "================================\u001b[1m System Message \u001b[0m================================\n",
      "\n",
      "Given an input question, create a syntactically correct \u001b[33;1m\u001b[1;3m{dialect}\u001b[0m query to run to help find the answer. Unless the user specifies in his question a specific number of examples they wish to obtain, always limit your query to at most \u001b[33;1m\u001b[1;3m{top_k}\u001b[0m results. You can order the results by a relevant column to return the most interesting examples in the database.\n",
      "\n",
      "Never query for all the columns from a specific table, only ask for a the few relevant columns given the question.\n",
      "\n",
      "Pay attention to use only the column names that you can see in the schema description. Be careful to not query for columns that do not exist. Also, pay attention to which column is in which table.\n",
      "\n",
      "Only use the following tables:\n",
      "\u001b[33;1m\u001b[1;3m{table_info}\u001b[0m\n",
      "\n",
      "Question: \u001b[33;1m\u001b[1;3m{input}\u001b[0m\n"
     ]
    }
   ],
   "source": [
    "from langchain import hub\n",
    "\n",
    "query_prompt_template = hub.pull(\"langchain-ai/sql-query-system-prompt\")\n",
    "\n",
    "assert len(query_prompt_template.messages) == 1\n",
    "query_prompt_template.messages[0].pretty_print()"
   ]
  },
  {
   "cell_type": "code",
   "execution_count": 9,
   "metadata": {},
   "outputs": [
    {
     "name": "stdout",
     "output_type": "stream",
     "text": [
      "\n",
      "CREATE TABLE transactions (\n",
      "\tc_channel_id Nullable(String), \n",
      "\tc_account_id Nullable(String), \n",
      "\tc_action_id Nullable(String), \n",
      "\tc_date Nullable(Date), \n",
      "\tc_ldate Nullable(DateTime), \n",
      "\tc_id String, \n",
      "\tc_transaction_id Nullable(String), \n",
      "\tc_transaction_no Nullable(String), \n",
      "\tc_transaction_group Nullable(String), \n",
      "\tc_amount Nullable(Int64), \n",
      "\tc_balance Nullable(Int64), \n",
      "\tc_balance_old Nullable(Int64), \n",
      "\tc_device_type Nullable(String), \n",
      "\tc_coop_account_id Nullable(String), \n",
      "\tc_coop_device_type Nullable(String), \n",
      "\tc_description Nullable(String), \n",
      "\tc_branch_id Nullable(String), \n",
      "\tc_product_name Nullable(String), \n",
      "\tc_product_id Nullable(String), \n",
      "\tc_isdn Nullable(String), \n",
      "\tc_account_no Nullable(String), \n",
      "\tc_device_value Nullable(String), \n",
      "\tc_account_name Nullable(String), \n",
      "\tc_branch_name Nullable(String), \n",
      "\tc_coop_isdn Nullable(String), \n",
      "\tc_coop_account_no Nullable(String), \n",
      "\tc_coop_device_value Nullable(String), \n",
      "\tc_coop_account_name Nullable(String), \n",
      "\tc_coop_branch_name Nullable(String), \n",
      "\tc_product_code Nullable(String), \n",
      "\toperator Nullable(String), \n",
      "\tc_action Nullable(String), \n",
      "\tc_action_type Nullable(String), \n",
      "\tc_channel Nullable(String)\n",
      ") ENGINE = MergeTree()\n",
      " ORDER BY c_id\n",
      " PRIMARY KEY c_id\n",
      "\n",
      "/*\n",
      "3 rows from transactions table:\n",
      "c_channel_id\tc_account_id\tc_action_id\tc_date\tc_ldate\tc_id\tc_transaction_id\tc_transaction_no\tc_transaction_group\tc_amount\tc_balance\tc_balance_old\tc_device_type\tc_coop_account_id\tc_coop_device_type\tc_description\tc_branch_id\tc_product_name\tc_product_id\tc_isdn\tc_account_no\tc_device_value\tc_account_name\tc_branch_name\tc_coop_isdn\tc_coop_account_no\tc_coop_device_value\tc_coop_account_name\tc_coop_branch_name\tc_product_code\toperator\tc_action\tc_action_type\tc_channel\n",
      "None\t2901855\t65\t2024-01-10\t2024-01-09 16:00:00\t1126790405\t563146601\t5000000202848827\tDecrease\t-20000\t70090\t90090\tPHONE\t2401893\tBRANCHUSERNAME\tMobile Legends, 7048159468995897115\tNone\tGaming\t25\tD54D148D912657A5DFF2C0FB124774889C535459C619375A60F4D3847D0A168A0A8CD97E00F78CD36ED52F60FD66553782AF\t4ED4DDC8274C0EC76E3EB08790CF402488CA7B9D8A1768B423F791B95093DAF76434D1FB1B982E6D0E23F4806F917B6B42E4\tD54D148D912657A5DFF2C0FB124774889C535459C619375A60F4D3847D0A168A0A8CD97E00F78CD36ED52F60FD66553782AF\tNone\tNone\tNone\t9D343F99EB8230FC183F186CAC257E405778ADF113D54135D401BF4A04FD70B065A7DE54030C6477080D90EDE2FCBB59CBD4\t4301F973B340471EAAF60C4053CE6C07737646598721207E9992039C6BC19D486F8630505BDDC578175AA94E0925E100E911\t4301F973B340471EAAF60C4053CE6C07737646598721207E9992039C6BC19D486F8630505BDDC578175AA94E0925E100E911\t4301F973B340471EAAF60C4053CE6C07737646598721207E9992039C6BC19D486F8630505BDDC578175AA94E0925E100E911\tDD8C231C2CA1D8814455393C5EBF661257323B4B13833CC27B2E36A1C36D4A94B6AF6B52D4700555D6339409527F62597F4E\tUnitel\tSELL\tSell\tNone\n",
      "55\t3107097\t49\t2024-01-10\t2024-01-09 16:00:01\t1126790426\t563146610\t3400000202848828\tIncrease\t2700\t4700\t2000\tPHONE\t2037527\tACCOUNTNO\tБанкны картнаас орлого:227e4c0fd07874d29b5c4f66ca490d1b19hselo\tNone\tNone\t3\t36D319FBF6BFD880188BE31E4F25B0DA2FA49F8B55F7CC9AB24C343535D530B4E44E56B54D9922EA30DF157782DBE2C4CD54\tDAB8EDA7224531B78F148C96FE08E80377E3FC46A52FD4C5CF6BC05092A52886DB0343BDA132657BCCC941448E9A48CBD203\t36D319FBF6BFD880188BE31E4F25B0DA2FA49F8B55F7CC9AB24C343535D530B4E44E56B54D9922EA30DF157782DBE2C4CD54\t651B3C527D19E2EC558DD4FB71C66B042A8F4BF4F534FCA2274EF50E39AA4F84A1BCBF020AB21FD2FB18A537CA4568FAC2FF\tNone\tNone\t90E12475B6160945FBA404314B0ECC6D32E6DB3693E792E7C34CC88104B9E5FE56FBE4611BEEE1ACF5F8B5E9338EA64C5664\t90E12475B6160945FBA404314B0ECC6D32E6DB3693E792E7C34CC88104B9E5FE56FBE4611BEEE1ACF5F8B5E9338EA64C5664\t362985ABC53CB526EC88A6AD1E2E4C765EF7CEA95CD2341DB0ACFE0335656980F366EDF4E8C3AE7672D50ABF3E966B2E244D\tNone\tNone\tMobicom\tBANKCASHIN\tCashin\tMONPAY\n",
      "55\t88570\t50\t2024-01-10\t2024-01-09 16:00:04\t1126790435\t563146616\t3500000202848923\tDecrease\t-1600000\t229138\t1829138\tACCOUNTNO\t2039662\tACCOUNTNO\to ( 1605251818 )\tNone\tNone\t4\t252E61D1437186BAB3749C32D582F59B490DB85566A92A9427268DDE6DF3DCE2092871604D6CB7318B35FFC6075A5BB25C3B\t027E85C2ADB810D280B64BDAFD68332C4CEA7F1CE214C4D24BDA20272F967E33946240CB618640A207CF8EC3CCADC9B5F6E9\t027E85C2ADB810D280B64BDAFD68332C4CEA7F1CE214C4D24BDA20272F967E33946240CB618640A207CF8EC3CCADC9B5F6E9\t9408D1A238729706F3CFF5FC9C22561A1981D0F7238348A66129D491230302BF89FE9338C1B0EB5EDB778E10D1BC82A47E0E\tNone\tNone\t594BC01D97AC994333C2FB373B8D2FA62BACC20E25543E09A314EBA054522D3B38901384EC57574F8B2F02155B8741123EEA\t594BC01D97AC994333C2FB373B8D2FA62BACC20E25543E09A314EBA054522D3B38901384EC57574F8B2F02155B8741123EEA\t035ECA3517A97D4AEB60FA265A3D729A3092FFCD5D486BA08C00C94AD3FD6868D5526E7B4E71AB1C35FE0BC0F25412D1E8EF\tNone\tNone\tMobicom\tBANKCASHOUT\tCashout\tMONPAY\n",
      "*/\n"
     ]
    }
   ],
   "source": [
    "print(db.get_table_info())"
   ]
  },
  {
   "cell_type": "code",
   "execution_count": 10,
   "metadata": {},
   "outputs": [],
   "source": [
    "from typing_extensions import Annotated\n",
    "\n",
    "\n",
    "class QueryOutput(TypedDict):\n",
    "    \"\"\"Generated SQL query.\"\"\"\n",
    "\n",
    "    query: Annotated[str, ..., \"Syntactically valid SQL query.\"]\n",
    "\n",
    "\n",
    "def write_query(state: State):\n",
    "    \"\"\"Generate SQL query to fetch information.\"\"\"\n",
    "    prompt = query_prompt_template.invoke(\n",
    "        {\n",
    "            \"dialect\": db.dialect,\n",
    "            \"top_k\": 10,\n",
    "            \"table_info\": db.get_table_info(),\n",
    "            \"input\": state[\"question\"],\n",
    "        }\n",
    "    )\n",
    "    structured_llm = llm.with_structured_output(QueryOutput)\n",
    "    result = structured_llm.invoke(prompt)\n",
    "    return {\"query\": result[\"query\"]}"
   ]
  },
  {
   "cell_type": "code",
   "execution_count": 9,
   "metadata": {},
   "outputs": [
    {
     "data": {
      "text/plain": [
       "{'query': 'SELECT c_date, COUNT(*) as transaction_count FROM transactions GROUP BY c_date ORDER BY c_date LIMIT 10;'}"
      ]
     },
     "execution_count": 9,
     "metadata": {},
     "output_type": "execute_result"
    }
   ],
   "source": [
    "write_query({\"question\": \"How many transactions made in each day?\"})\n",
    "\n"
   ]
  },
  {
   "cell_type": "code",
   "execution_count": 11,
   "metadata": {},
   "outputs": [],
   "source": [
    "from langchain_community.tools.sql_database.tool import QuerySQLDatabaseTool\n",
    "\n",
    "\n",
    "def execute_query(state: State):\n",
    "    \"\"\"Execute SQL query.\"\"\"\n",
    "    execute_query_tool = QuerySQLDatabaseTool(db=db)\n",
    "    return {\"result\": execute_query_tool.invoke(state[\"query\"])}"
   ]
  },
  {
   "cell_type": "code",
   "execution_count": 11,
   "metadata": {},
   "outputs": [
    {
     "data": {
      "text/plain": [
       "{'result': '[(8,)]'}"
      ]
     },
     "execution_count": 11,
     "metadata": {},
     "output_type": "execute_result"
    }
   ],
   "source": [
    "execute_query({\"query\": \"SELECT COUNT(EmployeeId) AS EmployeeCount FROM Employee;\"})\n",
    "\n"
   ]
  },
  {
   "cell_type": "code",
   "execution_count": 12,
   "metadata": {},
   "outputs": [],
   "source": [
    "def generate_answer(state: State):\n",
    "    \"\"\"Answer question using retrieved information as context.\"\"\"\n",
    "    prompt = (\n",
    "        \"Given the following user question, corresponding SQL query, \"\n",
    "        \"and SQL result, answer the user question.\\n\\n\"\n",
    "        f'Question: {state[\"question\"]}\\n'\n",
    "        f'SQL Query: {state[\"query\"]}\\n'\n",
    "        f'SQL Result: {state[\"result\"]}'\n",
    "    )\n",
    "    response = llm.invoke(prompt)\n",
    "    return {\"answer\": response.content}"
   ]
  },
  {
   "cell_type": "code",
   "execution_count": 25,
   "metadata": {},
   "outputs": [],
   "source": [
    "from langgraph.graph import START, StateGraph\n",
    "from langgraph.checkpoint.memory import MemorySaver\n",
    "memory = MemorySaver()\n",
    "\n",
    "\n",
    "graph_builder = StateGraph(State).add_sequence(\n",
    "    [write_query, execute_query, generate_answer]\n",
    ")\n",
    "graph_builder.add_edge(START, \"write_query\")\n",
    "graph = graph_builder.compile(checkpointer=memory)"
   ]
  },
  {
   "cell_type": "code",
   "execution_count": 16,
   "metadata": {},
   "outputs": [],
   "source": [
    "if not os.environ.get(\"LANGSMITH_API_KEY\"):\n",
    "    os.environ[\"LANGSMITH_API_KEY\"] = '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'\n",
    "    os.environ[\"LANGSMITH_TRACING\"] = \"true\""
   ]
  },
  {
   "cell_type": "code",
   "execution_count": 17,
   "metadata": {},
   "outputs": [
    {
     "data": {
      "image/png": "[encoded data removed]",
      "text/plain": [
       "<IPython.core.display.Image object>"
      ]
     },
     "metadata": {},
     "output_type": "display_data"
    }
   ],
   "source": [
    "from IPython.display import Image, display\n",
    "\n",
    "display(Image(graph.get_graph().draw_mermaid_png()))"
   ]
  },
  {
   "cell_type": "code",
   "execution_count": 19,
   "metadata": {},
   "outputs": [
    {
     "name": "stdout",
     "output_type": "stream",
     "text": [
      "{'write_query': {'query': 'SELECT c_date, COUNT(*) as transaction_count \\n'\n",
      "                          'FROM transactions \\n'\n",
      "                          'GROUP BY c_date \\n'\n",
      "                          'ORDER BY c_date ASC \\n'\n",
      "                          'LIMIT 10;'}}\n",
      "{'execute_query': {'result': '[(datetime.date(2024, 1, 10), 84190), '\n",
      "                             '(datetime.date(2024, 1, 11), 100670), '\n",
      "                             '(datetime.date(2024, 1, 12), 102207), '\n",
      "                             '(datetime.date(2024, 1, 13), 155699), '\n",
      "                             '(datetime.date(2024, 1, 14), 115171), '\n",
      "                             '(datetime.date(2024, 1, 15), 138596)]'}}\n",
      "{'generate_answer': {'answer': 'The number of transactions made on each day, '\n",
      "                               'according to the SQL result, are as follows:\\n'\n",
      "                               '\\n'\n",
      "                               '- On January 10, 2024, there were 84,190 '\n",
      "                               'transactions.\\n'\n",
      "                               '- On January 11, 2024, there were 100,670 '\n",
      "                               'transactions.\\n'\n",
      "                               '- On January 12, 2024, there were 102,207 '\n",
      "                               'transactions.\\n'\n",
      "                               '- On January 13, 2024, there were 155,699 '\n",
      "                               'transactions.\\n'\n",
      "                               '- On January 14, 2024, there were 115,171 '\n",
      "                               'transactions.\\n'\n",
      "                               '- On January 15, 2024, there were 138,596 '\n",
      "                               'transactions.'}}\n"
     ]
    }
   ],
   "source": [
    "from pprint import pprint\n",
    "for step in graph.stream(\n",
    "    {\"question\": \"How many transactions made in each day\"}, stream_mode=\"updates\"\n",
    "):\n",
    "    pprint(step)\n",
    "    "
   ]
  },
  {
   "cell_type": "code",
   "execution_count": null,
   "metadata": {},
   "outputs": [],
   "source": []
  },
  {
   "cell_type": "code",
   "execution_count": null,
   "metadata": {},
   "outputs": [
    {
     "name": "stdout",
     "output_type": "stream",
     "text": [
      "{'write_query': {'query': 'SELECT c_date, c_transaction_group, SUM(c_amount) '\n",
      "                          'AS total_amount\\n'\n",
      "                          'FROM transactions\\n'\n",
      "                          'GROUP BY c_date, c_transaction_group\\n'\n",
      "                          'ORDER BY c_date DESC, total_amount DESC\\n'\n",
      "                          'LIMIT 10'}}\n",
      "{'execute_query': {'result': \"[(datetime.date(2024, 1, 15), 'Increase', \"\n",
      "                             '5177151051), (datetime.date(2024, 1, 15), '\n",
      "                             \"'Decrease', -5110021228), (datetime.date(2024, \"\n",
      "                             \"1, 14), 'Increase', 2366249004), \"\n",
      "                             \"(datetime.date(2024, 1, 14), 'Decrease', \"\n",
      "                             '-2411835576), (datetime.date(2024, 1, 13), '\n",
      "                             \"'Increase', 2608515122), (datetime.date(2024, 1, \"\n",
      "                             \"13), 'Decrease', -2678581983), \"\n",
      "                             \"(datetime.date(2024, 1, 12), 'Increase', \"\n",
      "                             '3009910650), (datetime.date(2024, 1, 12), '\n",
      "                             \"'Decrease', -2990805526), (datetime.date(2024, \"\n",
      "                             \"1, 11), 'Increase', 3417126796), \"\n",
      "                             \"(datetime.date(2024, 1, 11), 'Decrease', \"\n",
      "                             '-3462629295)]'}}\n",
      "{'generate_answer': {'answer': 'Here is the total amount grouped by '\n",
      "                               'transaction group for each day based on the '\n",
      "                               'provided SQL result:\\n'\n",
      "                               '\\n'\n",
      "                               '- January 15, 2024:\\n'\n",
      "                               '  - Increase: 5,177,151,051\\n'\n",
      "                               '  - Decrease: -5,110,021,228\\n'\n",
      "                               '\\n'\n",
      "                               '- January 14, 2024:\\n'\n",
      "                               '  - Increase: 2,366,249,004\\n'\n",
      "                               '  - Decrease: -2,411,835,576\\n'\n",
      "                               '\\n'\n",
      "                               '- January 13, 2024:\\n'\n",
      "                               '  - Increase: 2,608,515,122\\n'\n",
      "                               '  - Decrease: -2,678,581,983\\n'\n",
      "                               '\\n'\n",
      "                               '- January 12, 2024:\\n'\n",
      "                               '  - Increase: 3,009,910,650\\n'\n",
      "                               '  - Decrease: -2,990,805,526\\n'\n",
      "                               '\\n'\n",
      "                               '- January 11, 2024:\\n'\n",
      "                               '  - Increase: 3,417,126,796\\n'\n",
      "                               '  - Decrease: -3,462,629,295'}}\n"
     ]
    }
   ],
   "source": [
    "from pprint import pprint\n",
    "for step in graph.stream(\n",
    "    {\"question\": \"Can you give me total amount grouped by transaction group each day\"}, stream_mode=\"updates\",stream_mode=\"updates\",config={\"configurable\": {\"thread_id\": \"1\"}},\n",
    "):\n",
    "    pprint(step)"
   ]
  },
  {
   "cell_type": "code",
   "execution_count": null,
   "metadata": {},
   "outputs": [
    {
     "name": "stdout",
     "output_type": "stream",
     "text": [
      "{'write_query': {'query': 'SELECT SUM(c_amount) AS total_fee_amount \\n'\n",
      "                          'FROM transactions \\n'\n",
      "                          \"WHERE c_date = '2024-01-10' AND c_action = 'FEE' \\n\"\n",
      "                          'LIMIT 10;'}}\n",
      "{'execute_query': {'result': '[(-2650880,)]'}}\n",
      "{'generate_answer': {'answer': 'The total amount made from fees on 2024-01-10 '\n",
      "                               'is -2,650,880.'}}\n"
     ]
    }
   ],
   "source": [
    "from pprint import pprint\n",
    "for step in graph.stream(\n",
    "    {\"question\": \"Can you give me total amount made from fee on 2024-01-10 \"}, stream_mode=\"updates\"stream_mode=\"updates\",config={\"configurable\": {\"thread_id\": \"1\"}},\n",
    "):\n",
    "    pprint(step)"
   ]
  },
  {
   "cell_type": "code",
   "execution_count": 34,
   "metadata": {},
   "outputs": [
    {
     "name": "stdout",
     "output_type": "stream",
     "text": [
      "{'write_query': {'query': 'SELECT c_id, c_amount, c_date, c_account_id, '\n",
      "                          'c_transaction_no FROM transactions WHERE c_date = '\n",
      "                          \"'2024-01-10' ORDER BY c_amount DESC LIMIT 1;\"}}\n",
      "{'execute_query': {'result': \"[('1127051444', 8000000, datetime.date(2024, 1, \"\n",
      "                             \"10), '2062687', '3400000202901265')]\"}}\n",
      "{'generate_answer': {'answer': 'The row with the highest transaction amount on '\n",
      "                               '2024-01-10 is:\\n'\n",
      "                               '- Customer ID: 1127051444\\n'\n",
      "                               '- Transaction Amount: 8,000,000\\n'\n",
      "                               '- Transaction Date: 2024-01-10\\n'\n",
      "                               '- Account ID: 2062687\\n'\n",
      "                               '- Transaction Number: 3400000202901265'}}\n"
     ]
    }
   ],
   "source": [
    "from pprint import pprint\n",
    "\n",
    "for step in graph.stream(\n",
    "    {\"question\": \"Can you give me row with highest transcaction amount on 2024-01-10 \"}, stream_mode=\"updates\",config={\"configurable\": {\"thread_id\": \"1\"}},\n",
    "):\n",
    "    pprint(step)"
   ]
  },
  {
   "cell_type": "code",
   "execution_count": 36,
   "metadata": {},
   "outputs": [
    {
     "name": "stdout",
     "output_type": "stream",
     "text": [
      "{'write_query': {'query': 'SELECT c_account_id, MAX(c_amount) as '\n",
      "                          'max_transaction_amount\\n'\n",
      "                          'FROM transactions\\n'\n",
      "                          'GROUP BY c_account_id\\n'\n",
      "                          'ORDER BY max_transaction_amount DESC\\n'\n",
      "                          'LIMIT 10;'}}\n",
      "{'execute_query': {'result': \"[('371854', 9999999), ('3340953', 9999999), \"\n",
      "                             \"('1460584', 8805000), ('3403128', 8000000), \"\n",
      "                             \"('2062687', 8000000), ('3721365', 7000000), \"\n",
      "                             \"('3718477', 6300000), ('2580403', 6085000), \"\n",
      "                             \"('3388191', 6000000), ('3647047', 5500000)]\"}}\n",
      "{'generate_answer': {'answer': 'To answer the user question, \"Хамгийн их '\n",
      "                               'гүйлгээ хийсэн хэрэглэгчийн мэдээллийг '\n",
      "                               'харуулна уу,\" the SQL query provided retrieves '\n",
      "                               'the account IDs of users and their maximum '\n",
      "                               'transaction amounts. The result shows the top '\n",
      "                               '10 users by their largest transaction '\n",
      "                               'amounts. \\n'\n",
      "                               '\\n'\n",
      "                               'Here is the information for the top user:\\n'\n",
      "                               '\\n'\n",
      "                               '- Account ID: 371854\\n'\n",
      "                               '- Maximum Transaction Amount: 9,999,999\\n'\n",
      "                               '\\n'\n",
      "                               'This user is tied with another user as both '\n",
      "                               'have the maximum transaction amount of '\n",
      "                               '9,999,999, but the account ID 371854 appears '\n",
      "                               'first on the list.'}}\n"
     ]
    }
   ],
   "source": [
    "from pprint import pprint\n",
    "for step in graph.stream(\n",
    "    {\"question\": \"Хамгийн их гүйлгээ хийсэн хэрэглэгчийн мэдээллийг харуулна уу.\"}, stream_mode=\"updates\",config={\"configurable\": {\"thread_id\": \"1\"}},\n",
    "):\n",
    "    pprint(step)"
   ]
  },
  {
   "cell_type": "code",
   "execution_count": null,
   "metadata": {},
   "outputs": [],
   "source": []
  }
 ],
 "metadata": {
  "kernelspec": {
   "display_name": "3.9",
   "language": "python",
   "name": "python3"
  },
  "language_info": {
   "codemirror_mode": {
    "name": "ipython",
    "version": 3
   },
   "file_extension": ".py",
   "mimetype": "text/x-python",
   "name": "python",
   "nbconvert_exporter": "python",
   "pygments_lexer": "ipython3",
   "version": "3.9.19"
  }
 },
 "nbformat": 4,
 "nbformat_minor": 2
}
